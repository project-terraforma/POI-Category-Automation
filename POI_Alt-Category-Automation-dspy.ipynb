{
 "cells": [
  {
   "cell_type": "code",
   "execution_count": null,
   "id": "cc3462de",
   "metadata": {},
   "outputs": [],
   "source": [
    "%pip install overturemaps lonboard geopandas shapely"
   ]
  },
  {
   "cell_type": "code",
   "execution_count": null,
   "id": "e289b879",
   "metadata": {},
   "outputs": [],
   "source": [
    "%pip install google.generativeai"
   ]
  },
  {
   "cell_type": "code",
   "execution_count": null,
   "id": "4a3fc77a",
   "metadata": {},
   "outputs": [],
   "source": [
    "import overturemaps as om\n",
    "from overturemaps import core\n",
    "import overturemaps\n",
    "import pandas\n",
    "import geopandas as gpd\n",
    "from shapely import wkb\n",
    "from lonboard import Map, PolygonLayer, ScatterplotLayer\n",
    "import ipywidgets as widgets\n",
    "import numpy as np\n",
    "from IPython.display import display\n"
   ]
  },
  {
   "cell_type": "code",
   "execution_count": null,
   "id": "27a83e9a",
   "metadata": {},
   "outputs": [],
   "source": [
    "def create_map(dataset):\n",
    "    layer = ScatterplotLayer.from_geopandas(\n",
    "        dataset,\n",
    "        get_fill_color=[255, 0, 0],\n",
    "        radius_min_pixels=5,\n",
    "    )\n",
    "\n",
    "    view_state = {\n",
    "        \"longitude\": (bbox[0] + bbox[2]) / 2,\n",
    "        \"latitude\": (bbox[1] + bbox[3]) / 2,\n",
    "        \"zoom\": 8,\n",
    "        \"pitch\": 45,\n",
    "    }\n",
    "    m = Map(layer, view_state=view_state)\n",
    "    return m"
   ]
  },
  {
   "cell_type": "code",
   "execution_count": null,
   "id": "d354d631",
   "metadata": {},
   "outputs": [],
   "source": [
    "# specify bounding box\n",
    "bbox = 9.0894, 45.4642, 9.1494, 45.5242"
   ]
  },
  {
   "cell_type": "code",
   "execution_count": null,
   "id": "cefa1999",
   "metadata": {},
   "outputs": [],
   "source": [
    "place_dataset = core.geodataframe(\"place\", bbox=bbox)\n",
    "print(place_dataset.shape)"
   ]
  },
  {
   "cell_type": "code",
   "execution_count": null,
   "id": "6c771cea",
   "metadata": {},
   "outputs": [],
   "source": [
    "# Read the categories.txt file\n",
    "with open('Data/categories.txt', 'r') as file:\n",
    "    categories_data = file.readlines()\n",
    "categories_data = categories_data[1:]  # Skip the header line\n",
    "# print(np.shape(categories_data))\n",
    "\n",
    "\n",
    "# Split the data by semicolons and extract the part before the semi-colon\n",
    "categories_list = [entry.split(';')[0] for entry in categories_data]\n",
    "print(str(categories_list))\n",
    "\n",
    "# Print the extracted parts in a readable format\n",
    "# for category in categories_list:\n",
    "#     print(category)"
   ]
  },
  {
   "cell_type": "code",
   "execution_count": null,
   "id": "d852a281",
   "metadata": {},
   "outputs": [],
   "source": [
    "#visualize the map\n",
    "create_map(place_dataset)"
   ]
  },
  {
   "cell_type": "code",
   "execution_count": null,
   "id": "cd65eb92",
   "metadata": {},
   "outputs": [],
   "source": [
    "# Pulling out the places with no alt_categories\n",
    "no_alt = {}\n",
    "number = 0\n",
    "for i in range(len(place_dataset.id)):\n",
    "    # print(f\"Place: {place_dataset.names[i]['primary']}\")\n",
    "    # number += 1\n",
    "    if place_dataset.categories[i]['alternate'] is None:\n",
    "        # Create a dictionary with the primary name as the key and the category as the value\n",
    "        no_alt[place_dataset.names[i]['primary']] = place_dataset.categories[i]['primary']\n",
    "\n",
    "# print(number)"
   ]
  },
  {
   "cell_type": "code",
   "execution_count": null,
   "id": "b7bb1791",
   "metadata": {},
   "outputs": [],
   "source": [
    "# Number of places with no alt_categories\n",
    "print(len(no_alt.keys()))\n",
    "\n",
    "# Print the places with no alt_categories\n",
    "print(str(dict(list(no_alt.items()))))\n",
    "\n"
   ]
  },
  {
   "cell_type": "code",
   "execution_count": null,
   "id": "0f521ea7",
   "metadata": {},
   "outputs": [],
   "source": [
    "# Set up the API key\n",
    "api_key = <Your Gemini API Key>"
   ]
  },
  {
   "cell_type": "code",
   "execution_count": null,
   "id": "38278986",
   "metadata": {},
   "outputs": [],
   "source": [
    "# Initialize the Generative AI API\n",
    "import google.generativeai as genai\n",
    "import dspy\n",
    "import os\n",
    "\n",
    "# Configuring Generative AI and DSPY with API key\n",
    "genai.configure(api_key=api_key)\n",
    "gemini_api_key = os.getenv(\"api_key\")  # grabbing from environment\n",
    "\n",
    "# Instantiate Gemini models via DSPY for two-phase prompting\n",
    "llm_prompt = dspy.LM(\"gemini-2.5-pro\", api_key=gemini_api_key)\n",
    "llm_exec = dspy.LM(\"gemini-2.0-flash\", api_key=gemini_api_key)\n",
    "dspy.configure(lm=llm_exec)\n",
    "genai.configure(api_key=api_key)\n",
    "context = \"You are a Category Suggestion Agent. Your job is to read a POI record that I provide you with and propose an alternative category for it which is a one step deaper categorization (Outputing 'italian restaurant' instead of 'restaurant') using its name and category.\"+\\\n",
    "        f\"These are all the categories in the schema:{str(categories_list)}.\" +\\\n",
    "        \"I am going to provide you with all the POIs with no alternative category, I will provided the names and the primary categorys in this format: 'name': 'primary category'\" +\\\n",
    "        f\"These are the POIs: {str(dict(list(no_alt.items())))}\" +\\\n",
    "        \"Please provide me with a category that best sutes the alternative category for these POIs from the list of categories I provided you with.\"+\\\n",
    "        \"The response should be in the format: 'name': 'primary category' & 'alternate category'.\""
   ]
  },
  {
   "cell_type": "code",
   "execution_count": null,
   "id": "75888d7b",
   "metadata": {},
   "outputs": [],
   "source": [
    "# -- A. Use 2.5-pro to generate the executor prompt based on the given context\n",
    "prompt_response = llm_prompt.generate(prompt=context)\n",
    "full_text = prompt_response.text\n",
    "if \"EXECUTE_PROMPT:\" in full_text:\n",
    "    executor_prompt = full_text.split(\"EXECUTE_PROMPT:\")[1].strip().strip('\"')\n",
    "else:\n",
    "    executor_prompt = full_text\n",
    "\n",
    "# -- B. Run executor_prompt with 2.0-flash via DSPY\n",
    "execution_response = dspy.generate(prompt=executor_prompt)\n",
    "print(execution_response.text)\n"
   ]
  }
 ],
 "metadata": {
  "kernelspec": {
   "display_name": "base",
   "language": "python",
   "name": "python3"
  },
  "language_info": {
   "codemirror_mode": {
    "name": "ipython",
    "version": 3
   },
   "file_extension": ".py",
   "mimetype": "text/x-python",
   "name": "python",
   "nbconvert_exporter": "python",
   "pygments_lexer": "ipython3",
   "version": "3.12.7"
  }
 },
 "nbformat": 4,
 "nbformat_minor": 5
}
